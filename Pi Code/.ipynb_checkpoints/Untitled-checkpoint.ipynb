{
 "cells": [
  {
   "cell_type": "code",
   "execution_count": 1,
   "metadata": {
    "collapsed": true
   },
   "outputs": [],
   "source": [
    "lines = dict()"
   ]
  },
  {
   "cell_type": "code",
   "execution_count": 2,
   "metadata": {
    "collapsed": true
   },
   "outputs": [],
   "source": [
    "startText = open('start_text.txt', 'rb').read()"
   ]
  },
  {
   "cell_type": "code",
   "execution_count": 3,
   "metadata": {
    "collapsed": true
   },
   "outputs": [],
   "source": [
    "lines.update({'start':startText})"
   ]
  },
  {
   "cell_type": "code",
   "execution_count": 5,
   "metadata": {},
   "outputs": [
    {
     "data": {
      "text/plain": [
       "'Hello.\\n\\nWelcome to Dabba FYP. To set this system up, please choose one of the options below, and follow the onscreen instructions!\\n\\nTeam TeenLaddu'"
      ]
     },
     "execution_count": 5,
     "metadata": {},
     "output_type": "execute_result"
    }
   ],
   "source": [
    "lines['start']"
   ]
  },
  {
   "cell_type": "code",
   "execution_count": 11,
   "metadata": {
    "collapsed": true
   },
   "outputs": [],
   "source": [
    "location_request = \"To update location, simply send your location to this chat!\"\n",
    "location_received = \"Your new location ({}, {}) has been recieved!\""
   ]
  },
  {
   "cell_type": "code",
   "execution_count": 8,
   "metadata": {
    "collapsed": true
   },
   "outputs": [],
   "source": [
    "reset = \"To be updated\"\n",
    "status = \"URL goes here\""
   ]
  },
  {
   "cell_type": "code",
   "execution_count": 2,
   "metadata": {
    "collapsed": true
   },
   "outputs": [],
   "source": [
    "import pickle, datetime"
   ]
  },
  {
   "cell_type": "code",
   "execution_count": 12,
   "metadata": {
    "collapsed": true
   },
   "outputs": [],
   "source": [
    "lines.update({'location_request':location_request})\n",
    "lines.update({'location_received':location_received})\n",
    "lines.update({'reset':reset})\n",
    "lines.update({'status':status})"
   ]
  },
  {
   "cell_type": "code",
   "execution_count": 14,
   "metadata": {
    "collapsed": true
   },
   "outputs": [],
   "source": [
    "pickle.dump(lines, open('text.txt', 'wb'))"
   ]
  },
  {
   "cell_type": "code",
   "execution_count": 1,
   "metadata": {},
   "outputs": [],
   "source": [
    "import telegram_api as ta"
   ]
  },
  {
   "cell_type": "code",
   "execution_count": 2,
   "metadata": {},
   "outputs": [],
   "source": [
    "x = ta.telegram()"
   ]
  },
  {
   "cell_type": "code",
   "execution_count": 3,
   "metadata": {},
   "outputs": [],
   "source": [
    "x.send_message(165065883, \"Hello\")"
   ]
  },
  {
   "cell_type": "code",
   "execution_count": null,
   "metadata": {},
   "outputs": [],
   "source": [
    "x.poll()"
   ]
  },
  {
   "cell_type": "code",
   "execution_count": 5,
   "metadata": {
    "collapsed": true
   },
   "outputs": [],
   "source": [
    "import os"
   ]
  },
  {
   "cell_type": "code",
   "execution_count": 9,
   "metadata": {},
   "outputs": [
    {
     "name": "stdout",
     "output_type": "stream",
     "text": [
      "Hi\n"
     ]
    }
   ],
   "source": [
    "while not os.path.isfile('hello.pp'):\n",
    "    continue\n",
    "print \"Hi\""
   ]
  },
  {
   "cell_type": "code",
   "execution_count": 5,
   "metadata": {
    "collapsed": true
   },
   "outputs": [],
   "source": [
    "from uuid import getnode as get_mac\n",
    "import json"
   ]
  },
  {
   "cell_type": "code",
   "execution_count": 3,
   "metadata": {},
   "outputs": [
    {
     "data": {
      "text/plain": [
       "int"
      ]
     },
     "execution_count": 3,
     "metadata": {},
     "output_type": "execute_result"
    }
   ],
   "source": [
    "type(get_mac())"
   ]
  },
  {
   "cell_type": "code",
   "execution_count": 7,
   "metadata": {},
   "outputs": [],
   "source": [
    "dict_to_API = dict()\n",
    "dict_to_API.update({\"U_ID\":\"1234\"})\n",
    "dict_to_API.update({\"LAT\":\"1.12345\"})\n",
    "dict_to_API.update({\"LONG\":\"2.2345\"})\n",
    "dict_to_API.update({\"TIMESTAMP\":str(datetime.datetime.now())})\n",
    "dict_to_API.update({\"LEVEL\":34})\n",
    "dict_to_API.update({\"URL\":\"http://dropbox.com/someUrl\"})\n",
    "dict_to_API.update({\"TAGS\":['tag1','tag2','tag3']})"
   ]
  },
  {
   "cell_type": "code",
   "execution_count": 8,
   "metadata": {},
   "outputs": [
    {
     "data": {
      "text/plain": [
       "{'LAT': '1.12345',\n",
       " 'LEVEL': 34,\n",
       " 'LONG': '2.2345',\n",
       " 'TAGS': ['tag1', 'tag2', 'tag3'],\n",
       " 'TIMESTAMP': '2018-01-20 13:48:09.431429',\n",
       " 'URL': 'http://dropbox.com/someUrl',\n",
       " 'U_ID': '1234'}"
      ]
     },
     "execution_count": 8,
     "metadata": {},
     "output_type": "execute_result"
    }
   ],
   "source": [
    "dict_to_API"
   ]
  },
  {
   "cell_type": "code",
   "execution_count": 9,
   "metadata": {},
   "outputs": [
    {
     "data": {
      "text/plain": [
       "'{\"URL\": \"http://dropbox.com/someUrl\", \"LEVEL\": 34, \"LAT\": \"1.12345\", \"TIMESTAMP\": \"2018-01-20 13:48:09.431429\", \"U_ID\": \"1234\", \"TAGS\": [\"tag1\", \"tag2\", \"tag3\"], \"LONG\": \"2.2345\"}'"
      ]
     },
     "execution_count": 9,
     "metadata": {},
     "output_type": "execute_result"
    }
   ],
   "source": [
    "json.dumps(dict_to_API)"
   ]
  },
  {
   "cell_type": "code",
   "execution_count": 6,
   "metadata": {},
   "outputs": [],
   "source": [
    "import telebot\n",
    "from telebot import types\n",
    "import json\n",
    "from pickle import load, dump\n",
    "import os\n",
    "\n",
    "text = load(open('text.txt', 'rb'))\n",
    "\n",
    "markup = types.ReplyKeyboardMarkup()\n",
    "start = types.KeyboardButton('/start')\n",
    "location = types.KeyboardButton('/location')\n",
    "reset = types.KeyboardButton('/reset')\n",
    "status = types.KeyboardButton('/status')\n",
    "markup.row(start, location)\n",
    "markup.row(reset, status)\n",
    "\n",
    "token = \"506400947:AAFaKrX-EFVhM-O1e6rV5XyWMzVWtMB1Wdo\"\n",
    "\n",
    "bot = telebot.TeleBot(token)\n",
    "async_bot = telebot.AsyncTeleBot(token)\n",
    "config_dict = dict()\n",
    "\n",
    "class telegram: #ADD PI-CLIENT VALIDATION TO EACH!\n",
    "\t\n",
    "\tdef __init__(self): #add Boolean variable, MAC ID of Pi, OR SERVER SIDE CODE???\n",
    "\t\tif os.path.isfile('config.p'):\n",
    "\t\t\tconfig_dict = load(open('config.p', 'rb'))\n",
    "\n",
    "\t@bot.message_handler(commands=['start'])\n",
    "\tdef first_start(message):\n",
    "\t\tprint message.from_user.id\n",
    "\t\tconfig_dict.update({\"C_ID\":message.from_user.id})\n",
    "\t\tbot.reply_to(message, text['start'], reply_markup=markup)\n",
    "\t\t# dump(message, open('message.p', 'wb'))\n",
    "\n",
    "\tdef send_message(self, chat_id, message):\n",
    "\t\tasync_bot.send_message(chat_id, message)\n",
    "\n",
    "\t@bot.message_handler(commands=['location'])\n",
    "\tdef location_request(message):\n",
    "\t\tbot.reply_to(message, text['location_request'])\n",
    "\n",
    "\t@bot.message_handler(commands=['reset'])\n",
    "\tdef reset(message):\n",
    "\t\tbot.reply_to(message, text['reset'])\n",
    "\n",
    "\t@bot.message_handler(commands=['status'])\n",
    "\tdef status(message):\n",
    "\t\tbot.reply_to(message, text['status'])\n",
    "\n",
    "\t@bot.message_handler(content_types=['location'])\n",
    "\tdef get_location(message):\n",
    "\t\tlocation_lat, location_long = message.location.latitude, message.location.longitude\n",
    "\t\tconfig_dict.update({\"LAT\":location_lat})\n",
    "\t\tconfig_dict.update({\"LONG\":location_long})\n",
    "\t\tdump(config_dict, open('config.p', 'wb'))\n",
    "\t\tbot.reply_to(message, text['location_received'].format(location_lat, location_long))\n",
    "\n",
    "\tdef poll(self):\n",
    "\t\tprint (\"Telegram API Running\")\n",
    "\t\tbot.polling(none_stop=True)"
   ]
  },
  {
   "cell_type": "code",
   "execution_count": 7,
   "metadata": {},
   "outputs": [],
   "source": [
    "ta = telegram()"
   ]
  },
  {
   "cell_type": "code",
   "execution_count": null,
   "metadata": {},
   "outputs": [
    {
     "name": "stdout",
     "output_type": "stream",
     "text": [
      "Telegram API Running\n",
      "{'forward_from_chat': None, 'migrate_to_chat_id': None, 'invoice': None, 'text': u'/start', 'sticker': None, 'from_user': {'username': u'sathe_aditya', 'first_name': u'Aditya', 'last_name': u'Sathe', 'is_bot': False, 'language_code': u'en-IN', 'id': 165065883}, 'caption_entities': None, 'delete_chat_photo': None, 'migrate_from_chat_id': None, 'new_chat_members': None, 'video': None, 'left_chat_member': None, 'chat': {'username': u'sathe_aditya', 'first_name': u'Aditya', 'last_name': u'Sathe', 'description': None, 'title': None, 'photo': None, 'pinned_message': None, 'sticker_set_name': None, 'all_members_are_administrators': None, 'invite_link': None, 'type': u'private', 'id': 165065883, 'can_set_sticker_set': None}, 'group_chat_created': None, 'new_chat_photo': None, 'forward_date': None, 'entities': [<telebot.types.MessageEntity instance at 0x1065b0710>], 'location': None, 'photo': None, 'author_signature': None, 'document': None, 'forward_from': None, 'supergroup_chat_created': None, 'edit_date': None, 'pinned_message': None, 'content_type': 'text', 'successful_payment': None, 'date': 1519627133, 'new_chat_member': None, 'voice': None, 'reply_to_message': None, 'venue': None, 'message_id': 60, 'caption': None, 'contact': None, 'channel_chat_created': None, 'video_note': None, 'audio': None, 'new_chat_title': None}\n"
     ]
    }
   ],
   "source": [
    "ta.poll()"
   ]
  },
  {
   "cell_type": "code",
   "execution_count": null,
   "metadata": {},
   "outputs": [],
   "source": []
  }
 ],
 "metadata": {
  "kernelspec": {
   "display_name": "Python 2",
   "language": "python",
   "name": "python2"
  },
  "language_info": {
   "codemirror_mode": {
    "name": "ipython",
    "version": 2
   },
   "file_extension": ".py",
   "mimetype": "text/x-python",
   "name": "python",
   "nbconvert_exporter": "python",
   "pygments_lexer": "ipython2",
   "version": "2.7.14"
  }
 },
 "nbformat": 4,
 "nbformat_minor": 2
}
